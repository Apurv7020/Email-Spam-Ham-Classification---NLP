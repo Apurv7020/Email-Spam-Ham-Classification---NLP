{
 "cells": [
  {
   "cell_type": "code",
   "execution_count": 1,
   "id": "40aaca9a-81d6-47ef-a36c-caef2a7347bf",
   "metadata": {},
   "outputs": [],
   "source": [
    "import numpy as np\n",
    "import pandas as pd\n",
    "import matplotlib.pyplot as plt\n",
    "import seaborn as sns\n",
    "import warnings\n",
    "warnings.filterwarnings('ignore')\n",
    "%matplotlib inline"
   ]
  },
  {
   "cell_type": "code",
   "execution_count": 2,
   "id": "95244be3-ca65-4093-bf8c-a721e7f1cee0",
   "metadata": {},
   "outputs": [],
   "source": [
    "data= pd.read_csv(r\"D:\\Class\\Data Science Project\\emails.csv\")"
   ]
  },
  {
   "cell_type": "code",
   "execution_count": 3,
   "id": "0978d66d-ba45-4b02-bf82-7840336c0241",
   "metadata": {},
   "outputs": [],
   "source": [
    "df= data.copy()"
   ]
  },
  {
   "cell_type": "code",
   "execution_count": 4,
   "id": "743ec10e-92f9-41e7-9386-9e9d8c5654be",
   "metadata": {},
   "outputs": [
    {
     "data": {
      "text/html": [
       "<div>\n",
       "<style scoped>\n",
       "    .dataframe tbody tr th:only-of-type {\n",
       "        vertical-align: middle;\n",
       "    }\n",
       "\n",
       "    .dataframe tbody tr th {\n",
       "        vertical-align: top;\n",
       "    }\n",
       "\n",
       "    .dataframe thead th {\n",
       "        text-align: right;\n",
       "    }\n",
       "</style>\n",
       "<table border=\"1\" class=\"dataframe\">\n",
       "  <thead>\n",
       "    <tr style=\"text-align: right;\">\n",
       "      <th></th>\n",
       "      <th>Text</th>\n",
       "      <th>Spam</th>\n",
       "    </tr>\n",
       "  </thead>\n",
       "  <tbody>\n",
       "    <tr>\n",
       "      <th>0</th>\n",
       "      <td>Subject: naturally irresistible your corporate...</td>\n",
       "      <td>1</td>\n",
       "    </tr>\n",
       "    <tr>\n",
       "      <th>1</th>\n",
       "      <td>Subject: the stock trading gunslinger  fanny i...</td>\n",
       "      <td>1</td>\n",
       "    </tr>\n",
       "    <tr>\n",
       "      <th>2</th>\n",
       "      <td>Subject: unbelievable new homes made easy  im ...</td>\n",
       "      <td>1</td>\n",
       "    </tr>\n",
       "    <tr>\n",
       "      <th>3</th>\n",
       "      <td>Subject: 4 color printing special  request add...</td>\n",
       "      <td>1</td>\n",
       "    </tr>\n",
       "    <tr>\n",
       "      <th>4</th>\n",
       "      <td>Subject: do not have money , get software cds ...</td>\n",
       "      <td>1</td>\n",
       "    </tr>\n",
       "  </tbody>\n",
       "</table>\n",
       "</div>"
      ],
      "text/plain": [
       "                                                Text  Spam\n",
       "0  Subject: naturally irresistible your corporate...     1\n",
       "1  Subject: the stock trading gunslinger  fanny i...     1\n",
       "2  Subject: unbelievable new homes made easy  im ...     1\n",
       "3  Subject: 4 color printing special  request add...     1\n",
       "4  Subject: do not have money , get software cds ...     1"
      ]
     },
     "execution_count": 4,
     "metadata": {},
     "output_type": "execute_result"
    }
   ],
   "source": [
    "df.head()"
   ]
  },
  {
   "cell_type": "code",
   "execution_count": 5,
   "id": "486538f3-6f81-4c3c-9c53-b582860906bf",
   "metadata": {},
   "outputs": [
    {
     "data": {
      "text/plain": [
       "Index(['Text', 'Spam'], dtype='object')"
      ]
     },
     "execution_count": 5,
     "metadata": {},
     "output_type": "execute_result"
    }
   ],
   "source": [
    "df.columns"
   ]
  },
  {
   "cell_type": "code",
   "execution_count": 6,
   "id": "36d72266-f5b0-4b87-adfe-6109cfc4fce8",
   "metadata": {},
   "outputs": [
    {
     "data": {
      "text/plain": [
       "(5728, 2)"
      ]
     },
     "execution_count": 6,
     "metadata": {},
     "output_type": "execute_result"
    }
   ],
   "source": [
    "df.shape"
   ]
  },
  {
   "cell_type": "code",
   "execution_count": 7,
   "id": "a1da66dd-1f07-4925-b69b-059f1b3cd2d9",
   "metadata": {},
   "outputs": [
    {
     "name": "stdout",
     "output_type": "stream",
     "text": [
      "<class 'pandas.core.frame.DataFrame'>\n",
      "RangeIndex: 5728 entries, 0 to 5727\n",
      "Data columns (total 2 columns):\n",
      " #   Column  Non-Null Count  Dtype \n",
      "---  ------  --------------  ----- \n",
      " 0   Text    5728 non-null   object\n",
      " 1   Spam    5728 non-null   int64 \n",
      "dtypes: int64(1), object(1)\n",
      "memory usage: 89.6+ KB\n"
     ]
    }
   ],
   "source": [
    "df.info()"
   ]
  },
  {
   "cell_type": "code",
   "execution_count": 8,
   "id": "fb8df995-f2ae-4e15-8079-b4be05d5761e",
   "metadata": {},
   "outputs": [
    {
     "data": {
      "text/html": [
       "<div>\n",
       "<style scoped>\n",
       "    .dataframe tbody tr th:only-of-type {\n",
       "        vertical-align: middle;\n",
       "    }\n",
       "\n",
       "    .dataframe tbody tr th {\n",
       "        vertical-align: top;\n",
       "    }\n",
       "\n",
       "    .dataframe thead th {\n",
       "        text-align: right;\n",
       "    }\n",
       "</style>\n",
       "<table border=\"1\" class=\"dataframe\">\n",
       "  <thead>\n",
       "    <tr style=\"text-align: right;\">\n",
       "      <th></th>\n",
       "      <th>Spam</th>\n",
       "    </tr>\n",
       "  </thead>\n",
       "  <tbody>\n",
       "    <tr>\n",
       "      <th>count</th>\n",
       "      <td>5728.000000</td>\n",
       "    </tr>\n",
       "    <tr>\n",
       "      <th>mean</th>\n",
       "      <td>0.238827</td>\n",
       "    </tr>\n",
       "    <tr>\n",
       "      <th>std</th>\n",
       "      <td>0.426404</td>\n",
       "    </tr>\n",
       "    <tr>\n",
       "      <th>min</th>\n",
       "      <td>0.000000</td>\n",
       "    </tr>\n",
       "    <tr>\n",
       "      <th>25%</th>\n",
       "      <td>0.000000</td>\n",
       "    </tr>\n",
       "    <tr>\n",
       "      <th>50%</th>\n",
       "      <td>0.000000</td>\n",
       "    </tr>\n",
       "    <tr>\n",
       "      <th>75%</th>\n",
       "      <td>0.000000</td>\n",
       "    </tr>\n",
       "    <tr>\n",
       "      <th>max</th>\n",
       "      <td>1.000000</td>\n",
       "    </tr>\n",
       "  </tbody>\n",
       "</table>\n",
       "</div>"
      ],
      "text/plain": [
       "              Spam\n",
       "count  5728.000000\n",
       "mean      0.238827\n",
       "std       0.426404\n",
       "min       0.000000\n",
       "25%       0.000000\n",
       "50%       0.000000\n",
       "75%       0.000000\n",
       "max       1.000000"
      ]
     },
     "execution_count": 8,
     "metadata": {},
     "output_type": "execute_result"
    }
   ],
   "source": [
    "df.describe()"
   ]
  },
  {
   "cell_type": "code",
   "execution_count": 9,
   "id": "04a2a8f2-825a-4a79-9f1e-21a347f03526",
   "metadata": {},
   "outputs": [
    {
     "data": {
      "text/plain": [
       "Text    0\n",
       "Spam    0\n",
       "dtype: int64"
      ]
     },
     "execution_count": 9,
     "metadata": {},
     "output_type": "execute_result"
    }
   ],
   "source": [
    "df.isnull().sum()"
   ]
  },
  {
   "cell_type": "code",
   "execution_count": 10,
   "id": "b07a6627-a48f-4a23-8060-6fc73ff35fcb",
   "metadata": {},
   "outputs": [
    {
     "data": {
      "text/plain": [
       "33"
      ]
     },
     "execution_count": 10,
     "metadata": {},
     "output_type": "execute_result"
    }
   ],
   "source": [
    "df.duplicated().sum()"
   ]
  },
  {
   "cell_type": "code",
   "execution_count": 11,
   "id": "db41a9c6-3bb5-4685-a9bd-1a7337797689",
   "metadata": {},
   "outputs": [],
   "source": [
    "# Drop duplicate rows\n",
    "df.drop_duplicates(inplace=True)"
   ]
  },
  {
   "cell_type": "code",
   "execution_count": 12,
   "id": "51a9d5b6-9de8-4186-8ccd-cde2d70a1177",
   "metadata": {},
   "outputs": [
    {
     "data": {
      "text/plain": [
       "(5695, 2)"
      ]
     },
     "execution_count": 12,
     "metadata": {},
     "output_type": "execute_result"
    }
   ],
   "source": [
    "df.shape"
   ]
  },
  {
   "cell_type": "code",
   "execution_count": 13,
   "id": "22d1fa77-84c3-4cda-b5c1-222cf05b3b7d",
   "metadata": {},
   "outputs": [
    {
     "data": {
      "text/plain": [
       "Spam\n",
       "0    4327\n",
       "1    1368\n",
       "Name: count, dtype: int64"
      ]
     },
     "execution_count": 13,
     "metadata": {},
     "output_type": "execute_result"
    }
   ],
   "source": [
    "df['Spam'].value_counts()"
   ]
  },
  {
   "cell_type": "code",
   "execution_count": 14,
   "id": "0ad18ce9-6e99-47b0-86f7-6ca917ad494f",
   "metadata": {},
   "outputs": [
    {
     "data": {
      "image/png": "[encoded data removed]",
      "text/plain": [
       "<Figure size 400x500 with 1 Axes>"
      ]
     },
     "metadata": {},
     "output_type": "display_data"
    }
   ],
   "source": [
    "plt.figure(figsize= (4, 5))\n",
    "sns.countplot(x='Spam', data=df)\n",
    "plt.show()"
   ]
  },
  {
   "cell_type": "markdown",
   "id": "c0e368c7-6656-4997-96e4-d8551c06b3f7",
   "metadata": {},
   "source": [
    "<h2> Text Processing </h2>"
   ]
  },
  {
   "cell_type": "code",
   "execution_count": 16,
   "id": "a4f09d11-8e3f-4496-9f2d-2d011d581d70",
   "metadata": {},
   "outputs": [],
   "source": [
    "import nltk"
   ]
  },
  {
   "cell_type": "markdown",
   "id": "d26353ef-08ed-4b7c-9285-34a3f1334dd3",
   "metadata": {},
   "source": [
    "<h3> Tokenization </h3>"
   ]
  },
  {
   "cell_type": "code",
   "execution_count": 18,
   "id": "9d0d3d56-cf60-47dd-b85e-37f6c20b4d5c",
   "metadata": {},
   "outputs": [],
   "source": [
    "from nltk import word_tokenize\n",
    "\n",
    "def count_words(text):\n",
    "    # Tokenize the input text into words using the word_tokenize function from NLTK.\n",
    "    # This function splits the text into individual words and punctuation.\n",
    "    words = word_tokenize(text)\n",
    "    return len(words)"
   ]
  },
  {
   "cell_type": "code",
   "execution_count": 19,
   "id": "df917f1a-8849-41a9-b379-1c1834e72f25",
   "metadata": {},
   "outputs": [
    {
     "data": {
      "text/html": [
       "<div>\n",
       "<style scoped>\n",
       "    .dataframe tbody tr th:only-of-type {\n",
       "        vertical-align: middle;\n",
       "    }\n",
       "\n",
       "    .dataframe tbody tr th {\n",
       "        vertical-align: top;\n",
       "    }\n",
       "\n",
       "    .dataframe thead th {\n",
       "        text-align: right;\n",
       "    }\n",
       "</style>\n",
       "<table border=\"1\" class=\"dataframe\">\n",
       "  <thead>\n",
       "    <tr style=\"text-align: right;\">\n",
       "      <th></th>\n",
       "      <th>Text</th>\n",
       "      <th>Spam</th>\n",
       "      <th>Count</th>\n",
       "    </tr>\n",
       "  </thead>\n",
       "  <tbody>\n",
       "    <tr>\n",
       "      <th>0</th>\n",
       "      <td>Subject: naturally irresistible your corporate...</td>\n",
       "      <td>1</td>\n",
       "      <td>325</td>\n",
       "    </tr>\n",
       "    <tr>\n",
       "      <th>1</th>\n",
       "      <td>Subject: the stock trading gunslinger  fanny i...</td>\n",
       "      <td>1</td>\n",
       "      <td>90</td>\n",
       "    </tr>\n",
       "    <tr>\n",
       "      <th>2</th>\n",
       "      <td>Subject: unbelievable new homes made easy  im ...</td>\n",
       "      <td>1</td>\n",
       "      <td>88</td>\n",
       "    </tr>\n",
       "    <tr>\n",
       "      <th>3</th>\n",
       "      <td>Subject: 4 color printing special  request add...</td>\n",
       "      <td>1</td>\n",
       "      <td>99</td>\n",
       "    </tr>\n",
       "    <tr>\n",
       "      <th>4</th>\n",
       "      <td>Subject: do not have money , get software cds ...</td>\n",
       "      <td>1</td>\n",
       "      <td>53</td>\n",
       "    </tr>\n",
       "  </tbody>\n",
       "</table>\n",
       "</div>"
      ],
      "text/plain": [
       "                                                Text  Spam  Count\n",
       "0  Subject: naturally irresistible your corporate...     1    325\n",
       "1  Subject: the stock trading gunslinger  fanny i...     1     90\n",
       "2  Subject: unbelievable new homes made easy  im ...     1     88\n",
       "3  Subject: 4 color printing special  request add...     1     99\n",
       "4  Subject: do not have money , get software cds ...     1     53"
      ]
     },
     "execution_count": 19,
     "metadata": {},
     "output_type": "execute_result"
    }
   ],
   "source": [
    "df['Count']=df['Text'].apply(count_words)\n",
    "df.head()"
   ]
  },
  {
   "cell_type": "code",
   "execution_count": 20,
   "id": "7943e5bf-6620-4ca4-ac44-b1291b6eb571",
   "metadata": {},
   "outputs": [
    {
     "data": {
      "text/plain": [
       "0       325\n",
       "1        90\n",
       "2        88\n",
       "3        99\n",
       "4        53\n",
       "       ... \n",
       "5723    298\n",
       "5724    245\n",
       "5725    516\n",
       "5726    277\n",
       "5727    445\n",
       "Name: Count, Length: 5695, dtype: int64"
      ]
     },
     "execution_count": 20,
     "metadata": {},
     "output_type": "execute_result"
    }
   ],
   "source": [
    "df['Count']"
   ]
  },
  {
   "cell_type": "code",
   "execution_count": 21,
   "id": "4999d5d2-0488-4388-9316-ebb1c48df20b",
   "metadata": {},
   "outputs": [
    {
     "data": {
      "text/plain": [
       "Spam\n",
       "0    347.281488\n",
       "1    267.896199\n",
       "Name: Count, dtype: float64"
      ]
     },
     "execution_count": 21,
     "metadata": {},
     "output_type": "execute_result"
    }
   ],
   "source": [
    "df.groupby('Spam')['Count'].mean()"
   ]
  },
  {
   "cell_type": "markdown",
   "id": "1cb6a2df-d7bb-4ace-a396-37590773b8af",
   "metadata": {},
   "source": [
    "<h3> Removing Punctuations and Stopwords </h3>"
   ]
  },
  {
   "cell_type": "code",
   "execution_count": 23,
   "id": "48b7323c-4539-4322-8ad5-43b0c0e2054e",
   "metadata": {},
   "outputs": [],
   "source": [
    "import string\n",
    "from nltk.corpus import stopwords"
   ]
  },
  {
   "cell_type": "code",
   "execution_count": 24,
   "id": "45905cd9-3e34-40f1-be68-e995e1af1d35",
   "metadata": {},
   "outputs": [],
   "source": [
    "def process_text(text):\n",
    "    # Remove punctuation from the input text.\n",
    "    # The list comprehension iterates over each character in the text and includes it in the list if it is not punctuation.\n",
    "    no_punc = [char for char in text if char not in string.punctuation]\n",
    "    \n",
    "    # Join the characters back into a string after removing punctuation.\n",
    "    no_punc = ''.join(no_punc)\n",
    "    \n",
    "    # Split the text into words and remove stopwords.\n",
    "    # Stopwords are common words in English (e.g., 'and', 'the', 'is') that are often removed in text preprocessing.\n",
    "    # This line converts the text to lowercase and excludes words found in the NLTK stopwords list.\n",
    "    return ' '.join([word for word in no_punc.split() if word.lower() not in stopwords.words('english')])"
   ]
  },
  {
   "cell_type": "code",
   "execution_count": 25,
   "id": "0ec1c9ee-ff3d-40e1-a065-b87c1b5be560",
   "metadata": {},
   "outputs": [
    {
     "data": {
      "text/plain": [
       "0       Subject naturally irresistible corporate ident...\n",
       "1       Subject stock trading gunslinger fanny merrill...\n",
       "2       Subject unbelievable new homes made easy im wa...\n",
       "3       Subject 4 color printing special request addit...\n",
       "4       Subject money get software cds software compat...\n",
       "                              ...                        \n",
       "5723    Subject research development charges gpg forwa...\n",
       "5724    Subject receipts visit jim thanks invitation v...\n",
       "5725    Subject enron case study update wow day super ...\n",
       "5726    Subject interest david please call shirley cre...\n",
       "5727    Subject news aurora 5 2 update aurora version ...\n",
       "Name: Text, Length: 5695, dtype: object"
      ]
     },
     "execution_count": 25,
     "metadata": {},
     "output_type": "execute_result"
    }
   ],
   "source": [
    "df['Text']=df['Text'].apply(process_text)\n",
    "df['Text']"
   ]
  },
  {
   "cell_type": "markdown",
   "id": "35c49abc-8d2a-48af-9dfe-620f101f6438",
   "metadata": {},
   "source": [
    "<h3> Stemming </h3>"
   ]
  },
  {
   "cell_type": "code",
   "execution_count": 27,
   "id": "6ad18da7-e72f-4f81-8122-82f204b4dc96",
   "metadata": {},
   "outputs": [],
   "source": [
    "from nltk.stem import PorterStemmer\n",
    "\n",
    "# Create an instance of the PorterStemmer\n",
    "stemmer = PorterStemmer()\n",
    "\n",
    "def stemming(text):\n",
    "    # Split the input text into words, apply stemming to each word,\n",
    "    # and then rejoin the stemmed words into a single string.\n",
    "    return ' '.join([stemmer.stem(word) for word in text.split()])"
   ]
  },
  {
   "cell_type": "code",
   "execution_count": 28,
   "id": "56a7b1c6-97b8-45fa-9c70-cf9da1adbf06",
   "metadata": {},
   "outputs": [
    {
     "data": {
      "text/html": [
       "<div>\n",
       "<style scoped>\n",
       "    .dataframe tbody tr th:only-of-type {\n",
       "        vertical-align: middle;\n",
       "    }\n",
       "\n",
       "    .dataframe tbody tr th {\n",
       "        vertical-align: top;\n",
       "    }\n",
       "\n",
       "    .dataframe thead th {\n",
       "        text-align: right;\n",
       "    }\n",
       "</style>\n",
       "<table border=\"1\" class=\"dataframe\">\n",
       "  <thead>\n",
       "    <tr style=\"text-align: right;\">\n",
       "      <th></th>\n",
       "      <th>Text</th>\n",
       "      <th>Spam</th>\n",
       "      <th>Count</th>\n",
       "    </tr>\n",
       "  </thead>\n",
       "  <tbody>\n",
       "    <tr>\n",
       "      <th>0</th>\n",
       "      <td>subject natur irresist corpor ident lt realli ...</td>\n",
       "      <td>1</td>\n",
       "      <td>325</td>\n",
       "    </tr>\n",
       "    <tr>\n",
       "      <th>1</th>\n",
       "      <td>subject stock trade gunsling fanni merril muzo...</td>\n",
       "      <td>1</td>\n",
       "      <td>90</td>\n",
       "    </tr>\n",
       "    <tr>\n",
       "      <th>2</th>\n",
       "      <td>subject unbeliev new home made easi im want sh...</td>\n",
       "      <td>1</td>\n",
       "      <td>88</td>\n",
       "    </tr>\n",
       "    <tr>\n",
       "      <th>3</th>\n",
       "      <td>subject 4 color print special request addit in...</td>\n",
       "      <td>1</td>\n",
       "      <td>99</td>\n",
       "    </tr>\n",
       "    <tr>\n",
       "      <th>4</th>\n",
       "      <td>subject money get softwar cd softwar compat gr...</td>\n",
       "      <td>1</td>\n",
       "      <td>53</td>\n",
       "    </tr>\n",
       "  </tbody>\n",
       "</table>\n",
       "</div>"
      ],
      "text/plain": [
       "                                                Text  Spam  Count\n",
       "0  subject natur irresist corpor ident lt realli ...     1    325\n",
       "1  subject stock trade gunsling fanni merril muzo...     1     90\n",
       "2  subject unbeliev new home made easi im want sh...     1     88\n",
       "3  subject 4 color print special request addit in...     1     99\n",
       "4  subject money get softwar cd softwar compat gr...     1     53"
      ]
     },
     "execution_count": 28,
     "metadata": {},
     "output_type": "execute_result"
    }
   ],
   "source": [
    "df['Text']=df['Text'].apply(stemming)\n",
    "df.head()"
   ]
  },
  {
   "cell_type": "markdown",
   "id": "589c0b50-407f-4e96-a006-42f66917e493",
   "metadata": {},
   "source": [
    "<h3> Bag of Words Model \n",
    "</h3>"
   ]
  },
  {
   "cell_type": "code",
   "execution_count": 30,
   "id": "53180931-1b3d-4de0-83e6-84ed3d63471b",
   "metadata": {},
   "outputs": [],
   "source": [
    "from sklearn.feature_extraction.text import CountVectorizer\n",
    "\n",
    "# Create an instance of CountVectorizer\n",
    "# This vectorizer will convert a collection of text documents into a matrix of token counts.\n",
    "vectorizer = CountVectorizer()\n",
    "\n",
    "# Fit the model to the 'Text' column of the DataFrame 'df' and transform the text data into a sparse matrix.\n",
    "# Each row corresponds to a document (in this case, a text entry in the 'Text' column),\n",
    "# and each column corresponds to a token (word) in the vocabulary identified by the vectorizer.\n",
    "message_bow = vectorizer.fit_transform(df['Text'])"
   ]
  },
  {
   "cell_type": "code",
   "execution_count": 31,
   "id": "38c1f6d4-b94f-4f09-a35b-6d406dcddef7",
   "metadata": {},
   "outputs": [
    {
     "data": {
      "text/plain": [
       "array([[0, 0, 0, ..., 0, 0, 0],\n",
       "       [0, 0, 0, ..., 0, 0, 0],\n",
       "       [0, 0, 0, ..., 0, 0, 0],\n",
       "       ...,\n",
       "       [4, 0, 0, ..., 0, 0, 0],\n",
       "       [0, 0, 0, ..., 0, 0, 0],\n",
       "       [0, 0, 0, ..., 0, 0, 0]], dtype=int64)"
      ]
     },
     "execution_count": 31,
     "metadata": {},
     "output_type": "execute_result"
    }
   ],
   "source": [
    "#vectorizer.get_feature_names()\n",
    "message_bow.toarray()"
   ]
  },
  {
   "cell_type": "markdown",
   "id": "fd6f6ecb-14fa-47ac-8cf3-9fbb3ba856c4",
   "metadata": {},
   "source": [
    "<h2> Building a Model </h2>"
   ]
  },
  {
   "cell_type": "code",
   "execution_count": 33,
   "id": "4b89e663-b0b6-441e-a923-72a503ecbe06",
   "metadata": {},
   "outputs": [],
   "source": [
    "x= message_bow\n",
    "y= df['Spam']"
   ]
  },
  {
   "cell_type": "code",
   "execution_count": 34,
   "id": "99824397-a27d-48f7-bf3e-65f2937d75ef",
   "metadata": {},
   "outputs": [],
   "source": [
    "# Train-test split\n",
    "from sklearn.model_selection import train_test_split\n",
    "x_train, x_test, y_train, y_test = train_test_split(x, y, test_size=0.2, random_state=101)"
   ]
  },
  {
   "cell_type": "code",
   "execution_count": 35,
   "id": "b2bbc3f3-39cb-4690-874f-c8ebeaf48a8e",
   "metadata": {},
   "outputs": [
    {
     "data": {
      "text/plain": [
       "((4556, 29254), (1139, 29254))"
      ]
     },
     "execution_count": 35,
     "metadata": {},
     "output_type": "execute_result"
    }
   ],
   "source": [
    "x_train.shape, x_test.shape"
   ]
  },
  {
   "cell_type": "code",
   "execution_count": 36,
   "id": "ad35ed1e-4cd7-47a0-9c8f-617217a6857d",
   "metadata": {},
   "outputs": [],
   "source": [
    "from sklearn.linear_model import LogisticRegression\n",
    "from sklearn.ensemble import RandomForestClassifier\n",
    "from sklearn.tree import DecisionTreeClassifier\n",
    "from sklearn.svm import SVC\n",
    "from sklearn.naive_bayes import MultinomialNB\n",
    "from sklearn.metrics import classification_report, confusion_matrix, roc_auc_score, roc_curve\n",
    "from sklearn.metrics import accuracy_score, f1_score, precision_score, recall_score"
   ]
  },
  {
   "cell_type": "code",
   "execution_count": 37,
   "id": "bba30c70-d719-4fd0-afa0-1bb343aefbbb",
   "metadata": {},
   "outputs": [],
   "source": [
    "def train_model(x_train, x_test, y_train, y_test):\n",
    "    classifier = {\n",
    "        \"Logistic Regression\": LogisticRegression(),\n",
    "        \"Decision Tree Classifier\": DecisionTreeClassifier(),\n",
    "        \"Random Forest Classifier\": RandomForestClassifier(random_state=101),\n",
    "        \"SVM Classifier\": SVC(probability=True),\n",
    "        \"Naive Bayes Multinomial Classifier\": MultinomialNB()\n",
    "    }\n",
    "\n",
    "    for name, model in classifier.items():\n",
    "        print(f\"\\n================ {name} ================\\n\")\n",
    "        model.fit(x_train, y_train)\n",
    "        \n",
    "        # Make predictions\n",
    "        y_pred_train = model.predict(x_train)\n",
    "        y_pred_test = model.predict(x_test)\n",
    "        \n",
    "        # Confusion matrix\n",
    "        conf_matrix = confusion_matrix(y_test, y_pred_test)\n",
    "        print(f\"Confusion Matrix:\\n{conf_matrix}\")\n",
    "\n",
    "        # Accuracy\n",
    "        print(f\"\\nAccuracy of Training Data: {accuracy_score(y_train, y_pred_train)}\")\n",
    "        print(f\"\\nAccuracy of Testing Data: {accuracy_score(y_test, y_pred_test)}\")\n",
    "        \n",
    "        # Classification report\n",
    "        clf_report = classification_report(y_test, y_pred_test)\n",
    "        print(f\"\\nClassification Report:\\n{clf_report}\")\n",
    "\n",
    "        # ROC-AUC Score\n",
    "        roc_auc = roc_auc_score(y_test, y_pred_test)\n",
    "        print(f\"ROC-AUC Score: {roc_auc}\")\n",
    "    \n",
    "        # Plot ROC Curve\n",
    "        fpr, tpr, thresholds = roc_curve(y_test, model.predict_proba(x_test)[:, 1])\n",
    "        plt.plot(fpr, tpr, label=f'ROC curve (area = {roc_auc:.2f})')\n",
    "        plt.xlabel('False Positive Rate')\n",
    "        plt.ylabel('True Positive Rate')\n",
    "        plt.title(f'ROC Curve \\n using {name}', fontsize=10)\n",
    "        plt.legend(loc='best')\n",
    "        plt.show()\n",
    "        print(\"\\n\")"
   ]
  },
  {
   "cell_type": "code",
   "execution_count": 38,
   "id": "ae09bd99-884d-4037-b23b-555de18f3670",
   "metadata": {},
   "outputs": [
    {
     "name": "stdout",
     "output_type": "stream",
     "text": [
      "\n",
      "================ Logistic Regression ================\n",
      "\n",
      "Confusion Matrix:\n",
      "[[867   4]\n",
      " [  4 264]]\n",
      "\n",
      "Accuracy of Training Data: 1.0\n",
      "\n",
      "Accuracy of Testing Data: 0.9929762949956101\n",
      "\n",
      "Classification Report:\n",
      "              precision    recall  f1-score   support\n",
      "\n",
      "           0       1.00      1.00      1.00       871\n",
      "           1       0.99      0.99      0.99       268\n",
      "\n",
      "    accuracy                           0.99      1139\n",
      "   macro avg       0.99      0.99      0.99      1139\n",
      "weighted avg       0.99      0.99      0.99      1139\n",
      "\n",
      "ROC-AUC Score: 0.9902411021814007\n"
     ]
    },
    {
     "data": {
      "image/png": "[encoded data removed]",
      "text/plain": [
       "<Figure size 640x480 with 1 Axes>"
      ]
     },
     "metadata": {},
     "output_type": "display_data"
    },
    {
     "name": "stdout",
     "output_type": "stream",
     "text": [
      "\n",
      "\n",
      "\n",
      "================ Decision Tree Classifier ================\n",
      "\n",
      "Confusion Matrix:\n",
      "[[843  28]\n",
      " [ 21 247]]\n",
      "\n",
      "Accuracy of Training Data: 1.0\n",
      "\n",
      "Accuracy of Testing Data: 0.9569798068481123\n",
      "\n",
      "Classification Report:\n",
      "              precision    recall  f1-score   support\n",
      "\n",
      "           0       0.98      0.97      0.97       871\n",
      "           1       0.90      0.92      0.91       268\n",
      "\n",
      "    accuracy                           0.96      1139\n",
      "   macro avg       0.94      0.94      0.94      1139\n",
      "weighted avg       0.96      0.96      0.96      1139\n",
      "\n",
      "ROC-AUC Score: 0.944747416762342\n"
     ]
    },
    {
     "data": {
      "image/png": "[encoded data removed]",
      "text/plain": [
       "<Figure size 640x480 with 1 Axes>"
      ]
     },
     "metadata": {},
     "output_type": "display_data"
    },
    {
     "name": "stdout",
     "output_type": "stream",
     "text": [
      "\n",
      "\n",
      "\n",
      "================ Random Forest Classifier ================\n",
      "\n",
      "Confusion Matrix:\n",
      "[[868   3]\n",
      " [ 20 248]]\n",
      "\n",
      "Accuracy of Training Data: 1.0\n",
      "\n",
      "Accuracy of Testing Data: 0.9798068481123793\n",
      "\n",
      "Classification Report:\n",
      "              precision    recall  f1-score   support\n",
      "\n",
      "           0       0.98      1.00      0.99       871\n",
      "           1       0.99      0.93      0.96       268\n",
      "\n",
      "    accuracy                           0.98      1139\n",
      "   macro avg       0.98      0.96      0.97      1139\n",
      "weighted avg       0.98      0.98      0.98      1139\n",
      "\n",
      "ROC-AUC Score: 0.9609644087256027\n"
     ]
    },
    {
     "data": {
      "image/png": "[encoded data removed]",
      "text/plain": [
       "<Figure size 640x480 with 1 Axes>"
      ]
     },
     "metadata": {},
     "output_type": "display_data"
    },
    {
     "name": "stdout",
     "output_type": "stream",
     "text": [
      "\n",
      "\n",
      "\n",
      "================ SVM Classifier ================\n",
      "\n",
      "Confusion Matrix:\n",
      "[[866   5]\n",
      " [ 20 248]]\n",
      "\n",
      "Accuracy of Training Data: 0.9920983318700615\n",
      "\n",
      "Accuracy of Testing Data: 0.9780509218612818\n",
      "\n",
      "Classification Report:\n",
      "              precision    recall  f1-score   support\n",
      "\n",
      "           0       0.98      0.99      0.99       871\n",
      "           1       0.98      0.93      0.95       268\n",
      "\n",
      "    accuracy                           0.98      1139\n",
      "   macro avg       0.98      0.96      0.97      1139\n",
      "weighted avg       0.98      0.98      0.98      1139\n",
      "\n",
      "ROC-AUC Score: 0.9598163030998852\n"
     ]
    },
    {
     "data": {
      "image/png": "[encoded data removed]",
      "text/plain": [
       "<Figure size 640x480 with 1 Axes>"
      ]
     },
     "metadata": {},
     "output_type": "display_data"
    },
    {
     "name": "stdout",
     "output_type": "stream",
     "text": [
      "\n",
      "\n",
      "\n",
      "================ Naive Bayes Multinomial Classifier ================\n",
      "\n",
      "Confusion Matrix:\n",
      "[[860  11]\n",
      " [  2 266]]\n",
      "\n",
      "Accuracy of Training Data: 0.9958296751536435\n",
      "\n",
      "Accuracy of Testing Data: 0.9885864793678666\n",
      "\n",
      "Classification Report:\n",
      "              precision    recall  f1-score   support\n",
      "\n",
      "           0       1.00      0.99      0.99       871\n",
      "           1       0.96      0.99      0.98       268\n",
      "\n",
      "    accuracy                           0.99      1139\n",
      "   macro avg       0.98      0.99      0.98      1139\n",
      "weighted avg       0.99      0.99      0.99      1139\n",
      "\n",
      "ROC-AUC Score: 0.9899540757749713\n"
     ]
    },
    {
     "data": {
      "image/png": "[encoded data removed]",
      "text/plain": [
       "<Figure size 640x480 with 1 Axes>"
      ]
     },
     "metadata": {},
     "output_type": "display_data"
    },
    {
     "name": "stdout",
     "output_type": "stream",
     "text": [
      "\n",
      "\n"
     ]
    }
   ],
   "source": [
    "# Call the train_model function\n",
    "train_model(x_train, x_test, y_train, y_test)"
   ]
  },
  {
   "cell_type": "markdown",
   "id": "95df6ebf-00ce-4949-a5c1-055892bdd225",
   "metadata": {},
   "source": [
    "<h4> Best Model Based on Needs: </h4>\n",
    "If minimizing false positives (ham being classified as spam) is the priority, then Logistic Regression is the best, as both have very high precision for spam. <br>\n",
    "If minimizing false negatives (spam being classified as ham) is the priority, then Naive Bayes is the best model because of its perfect recall for spam.\n",
    "\n",
    "<h4> Conclusion: </h4>\n",
    "\n",
    "Logistic Regression strikes the best balance between precision and recall, making it a great overall choice. <br>\n",
    "Naive Bayes is the best option if missing spam is a bigger concern."
   ]
  },
  {
   "cell_type": "code",
   "execution_count": null,
   "id": "61ca2f3c-ac4b-4b33-b29c-48d3d9934de1",
   "metadata": {},
   "outputs": [],
   "source": []
  }
 ],
 "metadata": {
  "kernelspec": {
   "display_name": "Python 3 (ipykernel)",
   "language": "python",
   "name": "python3"
  },
  "language_info": {
   "codemirror_mode": {
    "name": "ipython",
    "version": 3
   },
   "file_extension": ".py",
   "mimetype": "text/x-python",
   "name": "python",
   "nbconvert_exporter": "python",
   "pygments_lexer": "ipython3",
   "version": "3.12.4"
  }
 },
 "nbformat": 4,
 "nbformat_minor": 5
}
